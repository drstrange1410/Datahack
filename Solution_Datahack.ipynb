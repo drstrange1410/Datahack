{
 "cells": [
  {
   "cell_type": "code",
   "execution_count": 14,
   "id": "c7daaaf1",
   "metadata": {},
   "outputs": [
    {
     "name": "stdout",
     "output_type": "stream",
     "text": [
      "Mean ROC AUC: 0.8437\n"
     ]
    }
   ],
   "source": [
    "import pandas as pd\n",
    "import numpy as np\n",
    "from sklearn.model_selection import train_test_split\n",
    "from sklearn.preprocessing import OneHotEncoder, StandardScaler\n",
    "from sklearn.impute import SimpleImputer\n",
    "from sklearn.pipeline import Pipeline\n",
    "from sklearn.compose import ColumnTransformer\n",
    "from sklearn.multioutput import MultiOutputClassifier\n",
    "from sklearn.metrics import roc_auc_score\n",
    "from sklearn.linear_model import LogisticRegression\n",
    "\n",
    "# Load datasets\n",
    "train_features = pd.read_csv('training_set_features.csv')\n",
    "train_labels = pd.read_csv('training_set_labels.csv')\n",
    "test_features = pd.read_csv('test_set_features.csv')\n",
    "\n",
    "# Merge train features and labels\n",
    "train_data = pd.merge(train_features, train_labels, on='respondent_id')\n",
    "\n",
    "# Identify feature types\n",
    "categorical_cols = ['age_group', 'education', 'race', 'sex', 'income_poverty', 'marital_status', \n",
    "                    'rent_or_own', 'employment_status', 'hhs_geo_region', 'census_msa', \n",
    "                    'employment_industry', 'employment_occupation']\n",
    "\n",
    "numeric_cols = ['xyz_concern', 'xyz_knowledge', 'opinion_xyz_vacc_effective', 'opinion_xyz_risk',\n",
    "                'opinion_xyz_sick_from_vacc', 'opinion_seas_vacc_effective', 'opinion_seas_risk',\n",
    "                'opinion_seas_sick_from_vacc', 'household_adults', 'household_children']\n",
    "\n",
    "binary_cols = ['behavioral_antiviral_meds', 'behavioral_avoidance', 'behavioral_face_mask',\n",
    "               'behavioral_wash_hands', 'behavioral_large_gatherings', 'behavioral_outside_home',\n",
    "               'behavioral_touch_face', 'doctor_recc_xyz', 'doctor_recc_seasonal', 'chronic_med_condition',\n",
    "               'child_under_6_months', 'health_worker', 'health_insurance']\n",
    "\n",
    "# Ensure all categorical features are in the correct format\n",
    "train_features[categorical_features] = train_features[categorical_features].astype(str)\n",
    "test_features[categorical_features] = test_features[categorical_features].astype(str)\n",
    "\n",
    "# Preprocessing pipeline for numeric features\n",
    "numeric_transformer = Pipeline(steps=[\n",
    "    ('imputer', SimpleImputer(strategy='median')),\n",
    "    ('scaler', StandardScaler())])\n",
    "\n",
    "# Preprocessing pipeline for categorical features\n",
    "categorical_transformer = Pipeline(steps=[\n",
    "    ('imputer', SimpleImputer(strategy='most_frequent')),\n",
    "    ('onehot', OneHotEncoder(handle_unknown='ignore'))])\n",
    "\n",
    "# Preprocessing pipeline for binary features\n",
    "binary_transformer = Pipeline(steps=[\n",
    "    ('imputer', SimpleImputer(strategy='most_frequent'))])\n",
    "\n",
    "# Combine preprocessing pipelines\n",
    "preprocessor = ColumnTransformer(\n",
    "    transformers=[\n",
    "        ('num', numeric_transformer, numeric_cols),\n",
    "        ('cat', categorical_transformer, categorical_cols),\n",
    "        ('bin', binary_transformer, binary_cols)])\n",
    "\n",
    "# Model pipeline\n",
    "model = Pipeline(steps=[('preprocessor', preprocessor),\n",
    "                        ('classifier', MultiOutputClassifier(LogisticRegression(max_iter= 2000)))])\n",
    "\n",
    "# Split the data\n",
    "X = train_data.drop(columns=['respondent_id', 'xyz_vaccine', 'seasonal_vaccine'])\n",
    "y = train_data[['xyz_vaccine', 'seasonal_vaccine']]\n",
    "X_train, X_val, y_train, y_val = train_test_split(X, y, test_size=0.2, random_state=42)\n",
    "\n",
    "# Train the model\n",
    "model.fit(X_train, y_train)\n",
    "\n",
    "# Predict probabilities\n",
    "y_pred = model.predict_proba(X_val)\n",
    "xyz_vaccine_pred = y_pred[0][:, 1]\n",
    "seasonal_vaccine_pred = y_pred[1][:, 1]\n",
    "\n",
    "# Evaluate the model\n",
    "roc_auc_xyz = roc_auc_score(y_val['xyz_vaccine'], xyz_vaccine_pred)\n",
    "roc_auc_seasonal = roc_auc_score(y_val['seasonal_vaccine'], seasonal_vaccine_pred)\n",
    "mean_roc_auc = np.mean([roc_auc_xyz, roc_auc_seasonal])\n",
    "\n",
    "print(f'Mean ROC AUC: {mean_roc_auc:.4f}')\n",
    "\n",
    "# Make predictions on test data\n",
    "test_pred = model.predict_proba(test_features.drop(columns=['respondent_id']))\n",
    "xyz_vaccine_test_pred = test_pred[0][:, 1]\n",
    "seasonal_vaccine_test_pred = test_pred[1][:, 1]\n",
    "\n",
    "# Prepare submission file\n",
    "submission = test_features[['respondent_id']].copy()\n",
    "submission['xyz_vaccine'] = xyz_vaccine_test_pred\n",
    "submission['seasonal_vaccine'] = seasonal_vaccine_test_pred\n",
    "submission.to_csv('submission_datahack.csv', index=False)"
   ]
  },
  {
   "cell_type": "code",
   "execution_count": 9,
   "id": "8987f119",
   "metadata": {},
   "outputs": [
    {
     "data": {
      "text/plain": [
       "0.8313409222701258"
      ]
     },
     "execution_count": 9,
     "metadata": {},
     "output_type": "execute_result"
    }
   ],
   "source": [
    "roc_auc_xyz"
   ]
  },
  {
   "cell_type": "code",
   "execution_count": 10,
   "id": "c2e419e5",
   "metadata": {},
   "outputs": [
    {
     "data": {
      "text/plain": [
       "0.8560597111902455"
      ]
     },
     "execution_count": 10,
     "metadata": {},
     "output_type": "execute_result"
    }
   ],
   "source": [
    "roc_auc_seasonal"
   ]
  }
 ],
 "metadata": {
  "kernelspec": {
   "display_name": "Python 3 (ipykernel)",
   "language": "python",
   "name": "python3"
  },
  "language_info": {
   "codemirror_mode": {
    "name": "ipython",
    "version": 3
   },
   "file_extension": ".py",
   "mimetype": "text/x-python",
   "name": "python",
   "nbconvert_exporter": "python",
   "pygments_lexer": "ipython3",
   "version": "3.11.7"
  }
 },
 "nbformat": 4,
 "nbformat_minor": 5
}
